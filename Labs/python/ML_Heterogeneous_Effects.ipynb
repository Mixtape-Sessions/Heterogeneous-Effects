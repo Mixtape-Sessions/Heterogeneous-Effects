{
  "nbformat": 4,
  "nbformat_minor": 0,
  "metadata": {
    "colab": {
      "provenance": [],
      "collapsed_sections": [
        "eU_aIhS7k-SQ",
        "M8kmDmNp5B0m",
        "pRi_NHFHBMbT",
        "Hy2j0806315i",
        "qoHuWuUnB9LI",
        "RIzL26GBDavL"
      ],
      "toc_visible": true
    },
    "kernelspec": {
      "name": "python3",
      "display_name": "Python 3"
    }
  },
  "cells": [
    {
      "cell_type": "markdown",
      "source": [
        "# Causal Effects via Regression"
      ],
      "metadata": {
        "id": "QSPS7wJ8rRlT"
      }
    },
    {
      "cell_type": "markdown",
      "source": [
        "Let's take up the example from the slides: what is the effect of going to a fancy college on later-life earnings? We'll use data on about 1,000 American men in the NLSY born 1980-1984 who finished college, and look at the effect of going to a private college ($D_i$) on earnings ($Y_i$) in 2015-2019 (when they were about 30-39 years old). We will be estimating an equation like this:\n",
        "$$\n",
        "Y_i = \\delta D_i + X_i'\\beta+\\varepsilon_i,\n",
        "$$\n",
        "where $X_i$ is a vector of controls, conditional on which we are willing to assume $D_i$ is as good as randomly assigned.\n",
        "\n",
        "What kinds of variables should we include in $X_i$?\n"
      ],
      "metadata": {
        "id": "4YNwBN15z9sP"
      }
    },
    {
      "cell_type": "code",
      "source": [
        "# import useful packages\n",
        "import pandas as pd # for loading and managing datasets\n",
        "import statsmodels.api as sm # for running regressions and getting standard errors"
      ],
      "metadata": {
        "id": "zxjvdQ6MrwDH"
      },
      "execution_count": null,
      "outputs": []
    },
    {
      "cell_type": "code",
      "source": [
        "# load NLSY data\n",
        "nlsy = pd.read_csv(\"https://www.dropbox.com/s/2csnuyk7xlsywkh/nlsy97.csv?raw=true\")\n",
        "nlsy"
      ],
      "metadata": {
        "id": "WJ4U1cDKr55N"
      },
      "execution_count": null,
      "outputs": []
    },
    {
      "cell_type": "code",
      "source": [
        "# clean data (drop obs with missing values)\n",
        "nlsy = nlsy.dropna()\n",
        "nlsy"
      ],
      "metadata": {
        "id": "hLz0OfXpsNke"
      },
      "execution_count": null,
      "outputs": []
    },
    {
      "cell_type": "markdown",
      "source": [
        "Let's start with a simple (uncontrolled) regression."
      ],
      "metadata": {
        "id": "9EZ8-1rb13qR"
      }
    },
    {
      "cell_type": "code",
      "source": [
        "# Simple regression\n",
        "rhs = sm.add_constant(nlsy['privatecollege']) # you have to add the constant yourself with statsmodels!\n",
        "model = sm.OLS(nlsy['annualearnings'], rhs)\n",
        "results = model.fit(cov_type='HC3') # heteroskedasticity-robust\n",
        "print(results.summary())"
      ],
      "metadata": {
        "id": "xmJwZcMpsr3N"
      },
      "execution_count": null,
      "outputs": []
    },
    {
      "cell_type": "markdown",
      "source": [
        "How to interpret the coefficient on $privatecollege$? As a causal effect?"
      ],
      "metadata": {
        "id": "if7mL0Se247R"
      }
    },
    {
      "cell_type": "markdown",
      "source": [
        "Now let's add controls for parent's education and cognitive ability as measured by ASVAB:"
      ],
      "metadata": {
        "id": "WxN5CIkd3FIc"
      }
    },
    {
      "cell_type": "code",
      "source": [
        "# Regression with controls\n",
        "rhs = sm.add_constant(nlsy[['privatecollege','dadcollege','momcollege','asvab']])\n",
        "model = sm.OLS(nlsy['annualearnings'], rhs)\n",
        "results = model.fit(cov_type='HC3')\n",
        "print(results.summary())"
      ],
      "metadata": {
        "id": "1WAfh6LjQpHh"
      },
      "execution_count": null,
      "outputs": []
    },
    {
      "cell_type": "markdown",
      "source": [
        "How did the inclusion of controls change the estimate? Why?"
      ],
      "metadata": {
        "id": "NdPZTZNU3R13"
      }
    },
    {
      "cell_type": "markdown",
      "source": [
        "Back to the whiteboard for prediction!"
      ],
      "metadata": {
        "id": "O5-ItzrL3W4y"
      }
    },
    {
      "cell_type": "markdown",
      "source": [
        "# Prediction Primer"
      ],
      "metadata": {
        "id": "fI9XXfGU3dde"
      }
    },
    {
      "cell_type": "markdown",
      "source": [
        "Let's use decision trees to predict which participants of the National JTPA Study were likely to find a job. We will use prior earnings, education, sex, race, and marital status as our prediction features."
      ],
      "metadata": {
        "id": "Gg7yvgsZ3pz2"
      }
    },
    {
      "cell_type": "code",
      "source": [
        "data=pd.read_csv(\"https://www.dropbox.com/s/jgu51n2kc72cp5j/jtpahet.csv?raw=true\")\n",
        "data"
      ],
      "metadata": {
        "id": "X4fQikML3gwD"
      },
      "execution_count": null,
      "outputs": []
    },
    {
      "cell_type": "markdown",
      "source": [
        "Import some utilities:"
      ],
      "metadata": {
        "id": "wkytiOpITN_E"
      }
    },
    {
      "cell_type": "code",
      "source": [
        "#@title\n",
        "import requests\n",
        "url1 = 'https://www.dropbox.com/s/jgml061manxpawo/plot_2d_separator.py?raw=true'\n",
        "url2 = 'https://www.dropbox.com/s/hlrrlwm4kt36awb/plot_interactive_tree.py?raw=true'\n",
        "url3 = 'https://www.dropbox.com/s/e2cy203sr30a59z/plot_helpers.py?raw=true'\n",
        "url4 = 'https://www.dropbox.com/s/aik5sgcwgz4brwn/tools.py?raw=true'\n",
        "r1 = requests.get(url1)\n",
        "r2 = requests.get(url2)\n",
        "r3 = requests.get(url3)\n",
        "r4 = requests.get(url4)\n",
        "\n",
        "# make sure your filename is the same as how you want to import \n",
        "with open('plot_2d_separator.py', 'w') as f1:\n",
        "    f1.write(r1.text)\n",
        "\n",
        "with open('plot_interactive_tree.py', 'w') as f2:\n",
        "    f2.write(r2.text)\n",
        "\n",
        "with open('plot_helpers.py', 'w') as f3:\n",
        "    f3.write(r3.text)\n",
        "\n",
        "with open('tools.py', 'w') as f4:\n",
        "    f4.write(r4.text)\n",
        "\n",
        "# now we can import\n",
        "import plot_helpers\n",
        "import tools\n",
        "import plot_2d_separator\n",
        "import plot_interactive_tree"
      ],
      "metadata": {
        "id": "KORsELfSTMyl",
        "cellView": "form"
      },
      "execution_count": null,
      "outputs": []
    },
    {
      "cell_type": "code",
      "source": [
        "from sklearn.tree import DecisionTreeClassifier\n",
        "from sklearn.tree import DecisionTreeRegressor\n",
        "from sklearn.ensemble import RandomForestClassifier\n",
        "from sklearn.ensemble import RandomForestRegressor\n",
        "from sklearn.model_selection import train_test_split\n",
        "import matplotlib.pyplot as plt\n",
        "plt.style.use('seaborn-whitegrid')\n",
        "from sklearn.tree import plot_tree"
      ],
      "metadata": {
        "id": "wcgiIKnqIUt2"
      },
      "execution_count": null,
      "outputs": []
    },
    {
      "cell_type": "markdown",
      "source": [
        "We'll first grow a tree using just two features (education and prior earnings) so we can visualize it easily. Let's visualize the feature space: triangles are individuals who found a job, circles are those who didn't."
      ],
      "metadata": {
        "id": "-nxwcyI0mILm"
      }
    },
    {
      "cell_type": "code",
      "source": [
        "plot_helpers.discrete_scatter(data.loc[:,'educ'].values, data.loc[:,'priorearn'].values, data.loc[:,'foundjob'].values)\n",
        "plt.show()"
      ],
      "metadata": {
        "id": "TPZ6jMTLmWsg"
      },
      "execution_count": null,
      "outputs": []
    },
    {
      "cell_type": "code",
      "source": [
        "tree = DecisionTreeRegressor(max_depth=3).fit(data.loc[:,['educ','priorearn']].values,data.loc[:,'foundjob'].values)\n",
        "fig1,ax = plt.subplots(1,1,figsize=(12, 8))\n",
        "plot_interactive_tree.plot_tree_partition(data.loc[:,['educ','priorearn']].values, data.loc[:,'foundjob'].values, tree, ax=ax)\n",
        "plot_tree(tree, feature_names=['education','Prior earnings'],class_names=['No job','Found job'], impurity=False, filled=True)\n",
        "plt.show()"
      ],
      "metadata": {
        "id": "sf24rdVLJZmr"
      },
      "execution_count": null,
      "outputs": []
    },
    {
      "cell_type": "markdown",
      "source": [
        "Now let's do a random forest:"
      ],
      "metadata": {
        "id": "SQmZtyYDnC4V"
      }
    },
    {
      "cell_type": "code",
      "source": [
        "forest = RandomForestClassifier(n_estimators=5, random_state=2).fit(data.loc[:,['educ','priorearn']].values,data.loc[:,'foundjob'].values)\n",
        "\n",
        "fig, axes = plt.subplots(2, 3, figsize=(20, 10))\n",
        "for i, (ax, tree) in enumerate(zip(axes.ravel(), forest.estimators_)):\n",
        "    ax.set_title(\"Tree {}\".format(i))\n",
        "    plot_interactive_tree.plot_tree_partition(data.loc[:,['educ','priorearn']].values,data.loc[:,'foundjob'].values, tree, ax=ax)\n",
        "    \n",
        "plot_2d_separator.plot_2d_separator(forest, data.loc[:,['educ','priorearn']].values, fill=True, ax=axes[-1, -1],\n",
        "                                alpha=.4)\n",
        "axes[-1, -1].set_title(\"Random Forest\")\n",
        "plot_helpers.discrete_scatter(data.loc[:,'educ'].values, data.loc[:,'priorearn'].values, data.loc[:,'foundjob'].values)\n",
        "plt.show()"
      ],
      "metadata": {
        "id": "0OnAO2PnR3Me"
      },
      "execution_count": null,
      "outputs": []
    },
    {
      "cell_type": "markdown",
      "source": [
        "We only used two prediction features (prior earnings and education) for visualization. To get the best predictions, we should use all of our features. And to evaluate the quality of the prediction, we should hold out a test set."
      ],
      "metadata": {
        "id": "JExKzaLpgQOm"
      }
    },
    {
      "cell_type": "code",
      "source": [
        "# Define a matrix of features:\n",
        "X = data[['age','priorearn','educ','female','nonwhite','married']]\n",
        "# hold out a test test:\n",
        "X_train, X_test, y_train, y_test = train_test_split(X, data['foundjob'], random_state=42)"
      ],
      "metadata": {
        "id": "plFtKVkUgn50"
      },
      "execution_count": null,
      "outputs": []
    },
    {
      "cell_type": "markdown",
      "source": [
        "Try on your own: grow a forest with 500 trees using the training set, and evaluate the prediction accuracy on the test set. Hint: you can evaluate the prediction accuracy by doing `forest.score(X_test,y_test)`."
      ],
      "metadata": {
        "id": "LR1TkSjfhH-Y"
      }
    },
    {
      "cell_type": "code",
      "source": [],
      "metadata": {
        "id": "ocK-BWY8k5Wf"
      },
      "execution_count": null,
      "outputs": []
    },
    {
      "cell_type": "markdown",
      "source": [
        "##Cheat"
      ],
      "metadata": {
        "id": "eU_aIhS7k-SQ"
      }
    },
    {
      "cell_type": "code",
      "source": [
        "forest = RandomForestClassifier(n_estimators=500, random_state=2).fit(X_train,y_train)\n",
        "forest.score(X_test,y_test)"
      ],
      "metadata": {
        "id": "Ovk5JDEWk5uk"
      },
      "execution_count": null,
      "outputs": []
    },
    {
      "cell_type": "markdown",
      "source": [
        "So much for predicting *outcomes*. We want to predict causal effects. Back to the whiteboard!"
      ],
      "metadata": {
        "id": "alI0KS2fZhI_"
      }
    },
    {
      "cell_type": "markdown",
      "metadata": {
        "id": "a_J_iK_BmyTB"
      },
      "source": [
        "# Using Machine Learning to Predict Heterogeneous Treatment Effects"
      ]
    },
    {
      "cell_type": "markdown",
      "metadata": {
        "id": "G9WBzU6Xn8Ux"
      },
      "source": [
        "## Key Challenge: Algorithms tailored for predicting outcomes can do poorly when predicting treatment effects"
      ]
    },
    {
      "cell_type": "markdown",
      "metadata": {
        "id": "hwTTUnLrowli"
      },
      "source": [
        "### Factors that strongly predict outcomes may not strongly predict treatment effects"
      ]
    },
    {
      "cell_type": "markdown",
      "metadata": {
        "id": "THdqEG_Lo4wu"
      },
      "source": [
        "$Y_i$: spending on a Lexus\n",
        "\n",
        "$D_i$: seeing an online ad for a Lexus\n",
        "\n",
        "$\\ln Y_i=\\beta_0+\\beta_1 age_i +\\beta_2 male_i + \\beta_3 D_i+\\beta_4 D_i \\times male_i +\\varepsilon_i$\n",
        "\n",
        "How do outcomes vary by age? (A lot if $\\beta_1$ is big)\n",
        "\n",
        "How do treatment effects vary by age? (not at all!)\n",
        "\n",
        "What do treatment effects vary by? (gender!)"
      ]
    },
    {
      "cell_type": "markdown",
      "source": [
        "Let's simulate some data to show what happens when we try to use algorithm tailored to predicting outcomes for predicting treatment effects."
      ],
      "metadata": {
        "id": "cx8mK_rg2cyj"
      }
    },
    {
      "cell_type": "code",
      "source": [
        "import numpy as np\n",
        "from sklearn import tree"
      ],
      "metadata": {
        "id": "WsBtHlR33VrH"
      },
      "execution_count": null,
      "outputs": []
    },
    {
      "cell_type": "code",
      "metadata": {
        "id": "tdDI1IwMqp5l"
      },
      "source": [
        "# define parameters\n",
        "n = 1000 # sample size\n",
        "p = .5 # probability of seeing the ad\n",
        "beta0=0\n",
        "beta1=.2 # effect of age\n",
        "beta2=-.025 # difference in average spending between males and females who don't see the ad ()\n",
        "beta3=0 # effect of treatment among females\n",
        "beta4=.05 # differential effect of treatment among males compared to females\n",
        "sigeps=.02 # residual variance of outcome\n",
        "\n",
        "# generate some fake data\n",
        "age=np.random.randint(low=18,high=61,size=(n,1))\n",
        "male=np.random.randint(low=0,high=2,size=(n,1))\n",
        "d=np.random.rand(n,1)>(1-p)\n",
        "epsilon=sigeps*np.random.randn(n,1)\n",
        "lny=beta0+beta1*age+beta2*male+beta3*d+beta4*d*male+epsilon\n",
        "\n",
        "# assemble as dataframe\n",
        "fakedata=pd.DataFrame(np.concatenate((lny,d,age,male),axis=1),columns=['lny','d','age','male'])\n",
        "fakedata.feature_names=['age','male']\n",
        "x0 = fakedata.loc[d==0,['age','male']]\n",
        "x1 = fakedata.loc[d==1,['age','male']]\n",
        "y0 = fakedata.loc[d==0,['lny']]\n",
        "y1 = fakedata.loc[d==1,['lny']]"
      ],
      "execution_count": null,
      "outputs": []
    },
    {
      "cell_type": "markdown",
      "source": [
        "Try on your own: fit two trees (call them `tree0` and `tree1`), each with `max_depth=2` to predict the outcome separately in the untreated ($D_i=0$) and treated ($D_i=1$) samples, using `x0` and `x1`, respectively."
      ],
      "metadata": {
        "id": "Fd1uLAZk3vfG"
      }
    },
    {
      "cell_type": "code",
      "source": [
        "# fit trees"
      ],
      "metadata": {
        "id": "LshTzl_54vSF"
      },
      "execution_count": null,
      "outputs": []
    },
    {
      "cell_type": "code",
      "source": [
        "# display trees"
      ],
      "metadata": {
        "id": "nCdDGq0s4_z6"
      },
      "execution_count": null,
      "outputs": []
    },
    {
      "cell_type": "markdown",
      "source": [
        "### Cheat"
      ],
      "metadata": {
        "id": "M8kmDmNp5B0m"
      }
    },
    {
      "cell_type": "code",
      "source": [
        "# fit trees\n",
        "tree1 = DecisionTreeRegressor(max_depth=2).fit(x1,y1)\n",
        "tree0 = DecisionTreeRegressor(max_depth=2).fit(x0,y0)"
      ],
      "metadata": {
        "id": "a1nnDYQn4xXN"
      },
      "execution_count": null,
      "outputs": []
    },
    {
      "cell_type": "code",
      "source": [
        "# display trees\n",
        "print('Treated tree:')\n",
        "plot_tree(tree1,filled=True,feature_names=fakedata.feature_names) \n",
        "plt.show()"
      ],
      "metadata": {
        "id": "cQJoFuHh5IhF"
      },
      "execution_count": null,
      "outputs": []
    },
    {
      "cell_type": "code",
      "source": [
        "print('Untreated tree:')\n",
        "plot_tree(tree0,filled=True,feature_names=fakedata.feature_names) \n",
        "plt.show()"
      ],
      "metadata": {
        "id": "6c-DI__o5NpF"
      },
      "execution_count": null,
      "outputs": []
    },
    {
      "cell_type": "markdown",
      "source": [
        "Which variable(s) did the trees key in on? Why? Would these trees be useful for predicting treatment effects? Why or why not?\n",
        "\n",
        "How do we fix the problem?"
      ],
      "metadata": {
        "id": "oVX__Pvu7EWU"
      }
    },
    {
      "cell_type": "markdown",
      "metadata": {
        "id": "_ImW8AlReB-f"
      },
      "source": [
        "## Random Causal Forest: Simulated Example"
      ]
    },
    {
      "cell_type": "code",
      "source": [
        "# Install econml\n",
        "!pip install econml #&> /dev/null\n",
        "from econml.dml import CausalForestDML as CausalForest"
      ],
      "metadata": {
        "id": "hCJz8T_m2qfZ"
      },
      "execution_count": null,
      "outputs": []
    },
    {
      "cell_type": "code",
      "metadata": {
        "id": "5OCVpZR7tA-V"
      },
      "source": [
        "# Instantiate the Causal Forest\n",
        "estimator = CausalForest(n_estimators=500,discrete_treatment=True,criterion=\"het\")\n",
        "# Grow the forest\n",
        "estimator.fit(fakedata['lny'], # outcoe\n",
        "              fakedata['d'], # treatment\n",
        "              X=fakedata[['age','male']]) # prediction features\n",
        "# Predict effects for each observation based on its characteristics:\n",
        "effects = estimator.effect(fakedata[['age','male']])"
      ],
      "execution_count": null,
      "outputs": []
    },
    {
      "cell_type": "markdown",
      "source": [
        "Let's see how well it did at estimating effects among men and women:"
      ],
      "metadata": {
        "id": "MFtL_AJG9CAA"
      }
    },
    {
      "cell_type": "code",
      "metadata": {
        "id": "mqoiopLL4v8J"
      },
      "source": [
        "malefx=effects[fakedata['male'].values==1]\n",
        "malefx.mean()\n",
        "\n",
        "\n"
      ],
      "execution_count": null,
      "outputs": []
    },
    {
      "cell_type": "code",
      "metadata": {
        "id": "Uai_wDHf428w"
      },
      "source": [
        "femalefx=effects[fakedata['male'].values==0]\n",
        "femalefx.mean()"
      ],
      "execution_count": null,
      "outputs": []
    },
    {
      "cell_type": "markdown",
      "source": [
        "How did our causal forest do at getting effects right for men and women?\n",
        "Let's see how it does on the age profile:"
      ],
      "metadata": {
        "id": "ctplR0SR9sBE"
      }
    },
    {
      "cell_type": "code",
      "metadata": {
        "id": "MPDiUMH17KDN"
      },
      "source": [
        "fig = plt.figure()\n",
        "ax = plt.axes()\n",
        "maleage=fakedata['age'].iloc[fakedata['male'].values==1]\n",
        "femaleage=fakedata['age'].iloc[fakedata['male'].values==0]\n",
        "\n",
        "ax.scatter(maleage,malefx,label='males');\n",
        "ax.scatter(femaleage,femalefx,label='females');\n",
        "ax.legend()\n",
        "plt.title(\"Estimated Treatment effects\")\n",
        "plt.xlabel(\"age\")\n",
        "plt.ylabel(\"treatment effect\");"
      ],
      "execution_count": null,
      "outputs": []
    },
    {
      "cell_type": "markdown",
      "metadata": {
        "id": "YY6X9FMo9nzN"
      },
      "source": [
        "A little noisy on the age profile (which should be flat) but does get the difference between men and women!"
      ]
    },
    {
      "cell_type": "markdown",
      "source": [
        "## Random Causal Forest: Predict the effects of job training"
      ],
      "metadata": {
        "id": "m1Qj_chk_RxA"
      }
    },
    {
      "cell_type": "markdown",
      "source": [
        "We are ready to apply machine learning to predict causal effects in a real-life setting: how do the effects of job training vary by an individual's characteristics? We will use data from the National Job Training Partnership study, a large-scale randomized evaluation of a publicly subsidized job training program for disadvantaged youth and young adults. Why would we care how the effects of a subsidized job training program vary by a person's characteristics?"
      ],
      "metadata": {
        "id": "0Gu4yXtj_p1_"
      }
    },
    {
      "cell_type": "markdown",
      "metadata": {
        "id": "Z_9P5WPQA-LD"
      },
      "source": [
        "We will use the JTPA evaluation dataset, which contains observations on about 14,000 individuals, some of whom were randomized to participate in job training ($z_i = 1$) and others who were not ($z_i = 0$).\n",
        "\n",
        "To do on your own:\n",
        "\n",
        "\n",
        "*   load the dataset from the url `https://www.dropbox.com/s/jgu51n2kc72cp5j/jtpahet.csv?raw=true`\n",
        "*   define the outcome vector (call it `y`) to be the column labeled `foundjob`\n",
        "*   define the randomized assignment indicator (call it `z`) to be the column labeled `z`\n",
        "*   define the feature vector (call it `x`) to be all columns except `foundjob`, `z`, and `enroll`.\n",
        "\n"
      ]
    },
    {
      "cell_type": "code",
      "source": [
        "# load the data\n",
        "\n",
        "# define the variables\n"
      ],
      "metadata": {
        "id": "ZxlaYZBvBL_K"
      },
      "execution_count": null,
      "outputs": []
    },
    {
      "cell_type": "markdown",
      "source": [
        "### Cheat"
      ],
      "metadata": {
        "id": "pRi_NHFHBMbT"
      }
    },
    {
      "cell_type": "code",
      "metadata": {
        "id": "uA8jeMVrYyNM"
      },
      "source": [
        "data=pd.read_csv(\"https://www.dropbox.com/s/jgu51n2kc72cp5j/jtpahet.csv?raw=true\")\n",
        "data"
      ],
      "execution_count": null,
      "outputs": []
    },
    {
      "cell_type": "code",
      "source": [
        "y = data['foundjob']\n",
        "z = data['z']\n",
        "x = data.drop(['foundjob','z','enroll'],axis=1)\n",
        "x"
      ],
      "metadata": {
        "id": "4lvqN0FkmYZc"
      },
      "execution_count": null,
      "outputs": []
    },
    {
      "cell_type": "markdown",
      "source": [
        "### Regression to get average effect"
      ],
      "metadata": {
        "id": "mrQYHqKWtp-a"
      }
    },
    {
      "cell_type": "markdown",
      "source": [
        "On your own: run a linear regression of the outcome on the random assignment indicator, `z`. Since this was a randomized experiment, we don't need controls!"
      ],
      "metadata": {
        "id": "TUD92j-Y3nRE"
      }
    },
    {
      "cell_type": "code",
      "source": [],
      "metadata": {
        "id": "0jqgYqcx3yEB"
      },
      "execution_count": null,
      "outputs": []
    },
    {
      "cell_type": "markdown",
      "source": [
        "### Cheat:"
      ],
      "metadata": {
        "id": "Hy2j0806315i"
      }
    },
    {
      "cell_type": "code",
      "source": [
        "rhs = sm.add_constant(data['z']) # you have to add the constant yourself with statsmodels!\n",
        "model = sm.OLS(data['foundjob'], rhs)\n",
        "results = model.fit(cov_type='HC3') # heteroskedasticity-robust\n",
        "print(results.summary())"
      ],
      "metadata": {
        "id": "lOC7Ev8t34Dq"
      },
      "execution_count": null,
      "outputs": []
    },
    {
      "cell_type": "markdown",
      "source": [
        "### Set up random forest"
      ],
      "metadata": {
        "id": "62yrByRIBk8Z"
      }
    },
    {
      "cell_type": "markdown",
      "source": [
        "So far, so good? Now create a random causal forest object, and fit it with outcome `y`, treatment variable `z`, and feature matrix `x`."
      ],
      "metadata": {
        "id": "W4fwaxUtBqgN"
      }
    },
    {
      "cell_type": "code",
      "source": [
        "# On your own: create and fit random causal forest object"
      ],
      "metadata": {
        "id": "OoPlfQhdB459"
      },
      "execution_count": null,
      "outputs": []
    },
    {
      "cell_type": "markdown",
      "source": [
        "### Cheat"
      ],
      "metadata": {
        "id": "qoHuWuUnB9LI"
      }
    },
    {
      "cell_type": "code",
      "source": [
        "rcf = CausalForest(n_estimators=500,discrete_treatment=True,criterion=\"het\").fit(y,z,X=x)\n"
      ],
      "metadata": {
        "id": "l3UWboTmm2dn"
      },
      "execution_count": null,
      "outputs": []
    },
    {
      "cell_type": "markdown",
      "source": [
        "### Explore effects"
      ],
      "metadata": {
        "id": "WniVmeMYCAS9"
      }
    },
    {
      "cell_type": "markdown",
      "source": [
        "Let's see what kind of heterogeneous effects our random causal forest predicted"
      ],
      "metadata": {
        "id": "EpCYhIH6CHQ1"
      }
    },
    {
      "cell_type": "code",
      "source": [
        "# calculate the predicted effects:\n",
        "insamplefx =rcf.effect(x)\n",
        "# plot a histogram of the estimated effects, with average effect overlaid\n",
        "fig=plt.figure()\n",
        "ax = plt.axes()\n",
        "ax.hist(insamplefx,bins=30,density=True)\n",
        "plt.axvline(rcf.ate_, color='k', linestyle='dashed', linewidth=1)\n",
        "plt.suptitle(\"Estimated Treatment effects\")\n",
        "plt.title(\"ATE: {:.3g}\".format(rcf.ate_[0]))\n",
        "plt.show()"
      ],
      "metadata": {
        "id": "zXZ-maDVnjcf"
      },
      "execution_count": null,
      "outputs": []
    },
    {
      "cell_type": "markdown",
      "source": [
        "Let's visualize how these effects vary by prior earnings and education by making a heatmap"
      ],
      "metadata": {
        "id": "ysSaIrbpCjgx"
      }
    },
    {
      "cell_type": "code",
      "source": [
        "import itertools"
      ],
      "metadata": {
        "id": "S7KqJyWaqgZJ"
      },
      "execution_count": null,
      "outputs": []
    },
    {
      "cell_type": "code",
      "source": [
        "# create a grid of values for education and prior earnings:\n",
        "educgrid=np.arange(data['educ'].values.min(),data['educ'].values.max()+1)\n",
        "earngrid = np.arange(data['priorearn'].values.min(),data['priorearn'].values.max(),5000)\n",
        "grid = pd.DataFrame(itertools.product(educgrid,earngrid),columns=['educ','priorearn'])\n"
      ],
      "metadata": {
        "id": "PS6_MnlavsFn"
      },
      "execution_count": null,
      "outputs": []
    },
    {
      "cell_type": "markdown",
      "source": [
        "We'll first visualize the effects among married, nonwhite females of average age:"
      ],
      "metadata": {
        "id": "3dOzvR9AC277"
      }
    },
    {
      "cell_type": "code",
      "source": [
        "grid['age']=data['age'].values.mean() # set age to the average\n",
        "grid['female']=1 # set female = 1\n",
        "grid['nonwhite']=1 # set nonwhite = 1\n",
        "grid['married']=1 # set married = 1\n"
      ],
      "metadata": {
        "id": "alNQLH2WuzWU"
      },
      "execution_count": null,
      "outputs": []
    },
    {
      "cell_type": "markdown",
      "source": [
        "To do on your own: calculate the predicted effects for each \"observation\" in the grid:"
      ],
      "metadata": {
        "id": "hdQVCJVMDPJi"
      }
    },
    {
      "cell_type": "code",
      "source": [
        "# gridfx = # uncomment and fill in on your own!"
      ],
      "metadata": {
        "id": "rpJtU9CMDaBG"
      },
      "execution_count": null,
      "outputs": []
    },
    {
      "cell_type": "markdown",
      "source": [
        "### Cheat"
      ],
      "metadata": {
        "id": "RIzL26GBDavL"
      }
    },
    {
      "cell_type": "code",
      "source": [
        "gridfx = rcf.effect(grid)"
      ],
      "metadata": {
        "id": "lSqd6njlz3HI"
      },
      "execution_count": null,
      "outputs": []
    },
    {
      "cell_type": "markdown",
      "source": [
        "### Visualize effects with a heatmap:"
      ],
      "metadata": {
        "id": "_oA4yTCCDmGL"
      }
    },
    {
      "cell_type": "code",
      "source": [
        "from mpl_toolkits.axes_grid1 import make_axes_locatable\n",
        "fig = plt.figure()\n",
        "ax = plt.subplot()\n",
        "main=ax.scatter(grid['educ'],grid['priorearn'],c=gridfx,cmap='plasma',marker=\"s\",s=300);\n",
        "plt.suptitle(\"Estimated Treatment effects\")\n",
        "plt.title(\"Nonwhite married females\")\n",
        "plt.xlabel(\"years of education\")\n",
        "plt.ylabel(\"prior earnings\");\n",
        "\n",
        "# create an Axes on the right side of ax. The width of cax will be 5%\n",
        "# of ax and the padding between cax and ax will be fixed at 0.05 inch.\n",
        "divider = make_axes_locatable(ax)\n",
        "cax = divider.append_axes(\"right\", size=\"5%\", pad=0.05)\n",
        "plt.colorbar(main, cax=cax)\n",
        "plt.show()"
      ],
      "metadata": {
        "id": "kR7rKsiqokah"
      },
      "execution_count": null,
      "outputs": []
    },
    {
      "cell_type": "markdown",
      "source": [
        "To do on your own: make similar visualizations for males, singles, whites, different ages, etc."
      ],
      "metadata": {
        "id": "XM9p3yq0DxXP"
      }
    },
    {
      "cell_type": "code",
      "source": [],
      "metadata": {
        "id": "lPlA-jY8D6DB"
      },
      "execution_count": null,
      "outputs": []
    }
  ]
}